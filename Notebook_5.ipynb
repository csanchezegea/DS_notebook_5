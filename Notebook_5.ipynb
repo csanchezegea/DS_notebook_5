{
 "cells": [
  {
   "cell_type": "markdown",
   "metadata": {
    "id": "Gp2WddtV9IwG"
   },
   "source": [
    "# Programa Ingenias+ Data Science"
   ]
  },
  {
   "cell_type": "markdown",
   "metadata": {
    "id": "H4M1yVbf9IwH"
   },
   "source": [
    "Como dijimos en clases anteriores, Python tiene implementadas muchas librerias para poder trabajar con datos. En la clase de hoy trabajaremos con una de ellas: `Numpy`."
   ]
  },
  {
   "cell_type": "markdown",
   "metadata": {
    "id": "GdTT8WeL9IwI"
   },
   "source": [
    "Antes de comenzar, vamos a hablar un poco de esta libreria o modulo.\n",
    "\n",
    "**Numpy** es una librería optimizada para realizar cálculos numéricos con vectores y matrices. A diferencia de otros lenguajes de programación, Python no posee en su estructura central la figura de matrices. Eso quiere decir que para poder trabajar con esta estructura de datos deberiamos trabajar con listas de listas. NumPy introduce el concepto de arrays o matrices."
   ]
  },
  {
   "cell_type": "markdown",
   "metadata": {
    "id": "qWkq3EHK9IwK"
   },
   "source": [
    "Al ser de código abierto, `numpy` posee una documentación muy amplia que es **SIEMPRE RECOMENDABLE** consultar."
   ]
  },
  {
   "cell_type": "markdown",
   "metadata": {
    "id": "nxe3KLUO9IwL"
   },
   "source": [
    "- [Documentacion NumPy](https://devdocs.io/numpy/)"
   ]
  },
  {
   "cell_type": "markdown",
   "metadata": {
    "id": "l1Ay3nSs9IwN"
   },
   "source": [
    "## Clase 4: Introduccion a NumPy"
   ]
  },
  {
   "cell_type": "markdown",
   "metadata": {
    "id": "X03mviQS9IyL"
   },
   "source": [
    "# Ejercicios\n",
    "\n",
    "1. Crear un arreglo de ceros de longitud 12\n",
    "2. Crear un arreglo de longitud 10 con ceros en todas sus posiciones y un 10 en la posición número 5\n",
    "3. Crear un arreglo que tenga los números del 10 al 49\n",
    "4. Crear una arreglo 2d de shape (3, 3) que tenga los números del 0 al 8\n",
    "5. Crear un arreglo de números aleatorios de longitud 100 y obtener su media y varianza\n",
    "6. Calcular la media de un arreglo usando np.sum\n",
    "7. Calcular la varianza de un arreglo usando np.sum y np.mean\n",
    "8. Crear un array de números aleatorios usando np.random.randn.\n"
   ]
  },
  {
   "cell_type": "code",
   "execution_count": 2,
   "metadata": {
    "id": "G0NMKT609IyM"
   },
   "outputs": [],
   "source": [
    "import numpy as np"
   ]
  },
  {
   "cell_type": "code",
   "execution_count": 3,
   "metadata": {},
   "outputs": [],
   "source": [
    "#Crear un arreglo de ceros de longitud 12#\n"
   ]
  },
  {
   "cell_type": "code",
   "execution_count": 4,
   "metadata": {},
   "outputs": [
    {
     "name": "stdout",
     "output_type": "stream",
     "text": [
      "[0. 0. 0. 0. 0. 0. 0. 0. 0. 0. 0. 0.]\n"
     ]
    }
   ],
   "source": [
    "#1. Crear un arreglo de ceros de longitud 12\n",
    "array0=np.zeros((12))\n",
    "print(array0)\n",
    "#OK"
   ]
  },
  {
   "cell_type": "code",
   "execution_count": 5,
   "metadata": {},
   "outputs": [
    {
     "name": "stdout",
     "output_type": "stream",
     "text": [
      "[ 1.  1.  1.  1. 10.  1.  1.  1.  1.  1.]\n"
     ]
    }
   ],
   "source": [
    "#2. Crear un arreglo de longitud 10 con ceros en todas sus posiciones y un 10 en la posición número 5\n",
    "array1=np.ones(10)   \n",
    "array1[4:5] = [10]\n",
    "print(array1)"
   ]
  },
  {
   "cell_type": "code",
   "execution_count": 6,
   "metadata": {},
   "outputs": [
    {
     "name": "stdout",
     "output_type": "stream",
     "text": [
      "[10 11 12 13 14 15 16 17 18 19 20 21 22 23 24 25 26 27 28 29 30 31 32 33\n",
      " 34 35 36 37 38 39 40 41 42 43 44 45 46 47 48 49]\n"
     ]
    }
   ],
   "source": [
    "#3. Crear un arreglo que tenga los números del 10 al 49\n",
    "array3=np.arange(10, 50, 1) \n",
    "print(array3)"
   ]
  },
  {
   "cell_type": "code",
   "execution_count": 7,
   "metadata": {},
   "outputs": [
    {
     "name": "stdout",
     "output_type": "stream",
     "text": [
      "[[0 1 2 3]\n",
      " [4 5 6 7]]\n"
     ]
    }
   ],
   "source": [
    "#4- Crear una arreglo 2d de shape (3, 3) que tenga los números del 0 al 8 #\n",
    "\n",
    "list2d = [[0, 1, 2,3], [4,5,6,7]]\n",
    "array2d=np.array(list2d)\n",
    "print(array2d)"
   ]
  },
  {
   "cell_type": "code",
   "execution_count": 8,
   "metadata": {},
   "outputs": [
    {
     "name": "stdout",
     "output_type": "stream",
     "text": [
      "2\n"
     ]
    }
   ],
   "source": [
    "print(array2d.ndim)"
   ]
  },
  {
   "cell_type": "code",
   "execution_count": 9,
   "metadata": {},
   "outputs": [
    {
     "name": "stdout",
     "output_type": "stream",
     "text": [
      "La media es 525.48 Y la varianza es 86308.6496\n"
     ]
    }
   ],
   "source": [
    "#5- Crear un arreglo de números aleatorios de longitud 100 y obtener su media y varianza#\n",
    "array3=np.random.randint(0,1000,100)\n",
    "media=np.mean(array3)\n",
    "varianza= np.var(array3)\n",
    "\n",
    "print( 'La media es {}'.format(media), 'Y la varianza es {}'.format(varianza))"
   ]
  },
  {
   "cell_type": "code",
   "execution_count": 10,
   "metadata": {},
   "outputs": [
    {
     "name": "stdout",
     "output_type": "stream",
     "text": [
      "1.9\n"
     ]
    }
   ],
   "source": [
    "#6- Calcular la media de un arreglo usando np.sum#\n",
    "media_array1= np.sum(array1)/len(array1)\n",
    "print(media_array1)"
   ]
  },
  {
   "cell_type": "code",
   "execution_count": 11,
   "metadata": {},
   "outputs": [
    {
     "name": "stdout",
     "output_type": "stream",
     "text": [
      "1.9\n"
     ]
    }
   ],
   "source": [
    "print(np.mean(array1))"
   ]
  },
  {
   "cell_type": "code",
   "execution_count": 12,
   "metadata": {},
   "outputs": [],
   "source": [
    "#7- Calcular la varianza de un arreglo usando np.sum y np.mean"
   ]
  },
  {
   "cell_type": "code",
   "execution_count": 22,
   "metadata": {},
   "outputs": [
    {
     "name": "stdout",
     "output_type": "stream",
     "text": [
      "25.0\n"
     ]
    }
   ],
   "source": [
    "array7=np.array([10,15,5])\n",
    "\n",
    "media1=np.mean(array7)\n",
    "\n",
    "for x in array7:\n",
    "   list_var2=(x-media1)**2\n",
    "       \n",
    "var=np.mean(np.sum(list_var2))\n",
    "print(var)\n"
   ]
  },
  {
   "cell_type": "code",
   "execution_count": 23,
   "metadata": {},
   "outputs": [
    {
     "name": "stdout",
     "output_type": "stream",
     "text": [
      "25.0\n"
     ]
    }
   ],
   "source": [
    "varianza= np.var(array7)\n",
    "print(var)"
   ]
  },
  {
   "cell_type": "code",
   "execution_count": 24,
   "metadata": {},
   "outputs": [
    {
     "name": "stdout",
     "output_type": "stream",
     "text": [
      "La varianza es 16.666666666666668\n"
     ]
    }
   ],
   "source": [
    "var2=np.sum((array7-media1)**2)/len(array7)\n",
    "print(f'La varianza es {var2}')"
   ]
  },
  {
   "cell_type": "code",
   "execution_count": null,
   "metadata": {},
   "outputs": [],
   "source": []
  },
  {
   "cell_type": "code",
   "execution_count": null,
   "metadata": {},
   "outputs": [],
   "source": [
    "#8-Crear un array de números aleatorios usando np.random.randn.\n"
   ]
  },
  {
   "cell_type": "code",
   "execution_count": 216,
   "metadata": {},
   "outputs": [
    {
     "name": "stdout",
     "output_type": "stream",
     "text": [
      "[[0.18040669 0.79792741 0.05770607]\n",
      " [0.18125146 0.23885075 0.51141072]]\n"
     ]
    }
   ],
   "source": [
    "array_8=np.random.rand(2,3)\n",
    "print(array_8)"
   ]
  }
 ],
 "metadata": {
  "colab": {
   "provenance": []
  },
  "kernelspec": {
   "display_name": "Python 3 (ipykernel)",
   "language": "python",
   "name": "python3"
  },
  "language_info": {
   "codemirror_mode": {
    "name": "ipython",
    "version": 3
   },
   "file_extension": ".py",
   "mimetype": "text/x-python",
   "name": "python",
   "nbconvert_exporter": "python",
   "pygments_lexer": "ipython3",
   "version": "3.10.9"
  }
 },
 "nbformat": 4,
 "nbformat_minor": 1
}
